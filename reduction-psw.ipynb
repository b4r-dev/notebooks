{
 "cells": [
  {
   "cell_type": "markdown",
   "metadata": {},
   "source": [
    "# Notebook for data reduction of PSW"
   ]
  },
  {
   "cell_type": "code",
   "execution_count": 1,
   "metadata": {},
   "outputs": [
    {
     "data": {
      "text/html": [
       "\n",
       "    <div class=\"bk-root\">\n",
       "        <a href=\"https://bokeh.pydata.org\" target=\"_blank\" class=\"bk-logo bk-logo-small bk-logo-notebook\"></a>\n",
       "        <span id=\"7ea252c5-ca0d-4dc4-97f8-553ba3979a35\">Loading BokehJS ...</span>\n",
       "    </div>"
      ]
     },
     "metadata": {},
     "output_type": "display_data"
    },
    {
     "data": {
      "application/javascript": [
       "\n",
       "(function(root) {\n",
       "  function now() {\n",
       "    return new Date();\n",
       "  }\n",
       "\n",
       "  var force = true;\n",
       "\n",
       "  if (typeof (root._bokeh_onload_callbacks) === \"undefined\" || force === true) {\n",
       "    root._bokeh_onload_callbacks = [];\n",
       "    root._bokeh_is_loading = undefined;\n",
       "  }\n",
       "\n",
       "  var JS_MIME_TYPE = 'application/javascript';\n",
       "  var HTML_MIME_TYPE = 'text/html';\n",
       "  var EXEC_MIME_TYPE = 'application/vnd.bokehjs_exec.v0+json';\n",
       "  var CLASS_NAME = 'output_bokeh rendered_html';\n",
       "\n",
       "  /**\n",
       "   * Render data to the DOM node\n",
       "   */\n",
       "  function render(props, node) {\n",
       "    var script = document.createElement(\"script\");\n",
       "    node.appendChild(script);\n",
       "  }\n",
       "\n",
       "  /**\n",
       "   * Handle when an output is cleared or removed\n",
       "   */\n",
       "  function handleClearOutput(event, handle) {\n",
       "    var cell = handle.cell;\n",
       "\n",
       "    var id = cell.output_area._bokeh_element_id;\n",
       "    var server_id = cell.output_area._bokeh_server_id;\n",
       "    // Clean up Bokeh references\n",
       "    if (id != null && id in Bokeh.index) {\n",
       "      Bokeh.index[id].model.document.clear();\n",
       "      delete Bokeh.index[id];\n",
       "    }\n",
       "\n",
       "    if (server_id !== undefined) {\n",
       "      // Clean up Bokeh references\n",
       "      var cmd = \"from bokeh.io.state import curstate; print(curstate().uuid_to_server['\" + server_id + \"'].get_sessions()[0].document.roots[0]._id)\";\n",
       "      cell.notebook.kernel.execute(cmd, {\n",
       "        iopub: {\n",
       "          output: function(msg) {\n",
       "            var id = msg.content.text.trim();\n",
       "            if (id in Bokeh.index) {\n",
       "              Bokeh.index[id].model.document.clear();\n",
       "              delete Bokeh.index[id];\n",
       "            }\n",
       "          }\n",
       "        }\n",
       "      });\n",
       "      // Destroy server and session\n",
       "      var cmd = \"import bokeh.io.notebook as ion; ion.destroy_server('\" + server_id + \"')\";\n",
       "      cell.notebook.kernel.execute(cmd);\n",
       "    }\n",
       "  }\n",
       "\n",
       "  /**\n",
       "   * Handle when a new output is added\n",
       "   */\n",
       "  function handleAddOutput(event, handle) {\n",
       "    var output_area = handle.output_area;\n",
       "    var output = handle.output;\n",
       "\n",
       "    // limit handleAddOutput to display_data with EXEC_MIME_TYPE content only\n",
       "    if ((output.output_type != \"display_data\") || (!output.data.hasOwnProperty(EXEC_MIME_TYPE))) {\n",
       "      return\n",
       "    }\n",
       "\n",
       "    var toinsert = output_area.element.find(\".\" + CLASS_NAME.split(' ')[0]);\n",
       "\n",
       "    if (output.metadata[EXEC_MIME_TYPE][\"id\"] !== undefined) {\n",
       "      toinsert[toinsert.length - 1].firstChild.textContent = output.data[JS_MIME_TYPE];\n",
       "      // store reference to embed id on output_area\n",
       "      output_area._bokeh_element_id = output.metadata[EXEC_MIME_TYPE][\"id\"];\n",
       "    }\n",
       "    if (output.metadata[EXEC_MIME_TYPE][\"server_id\"] !== undefined) {\n",
       "      var bk_div = document.createElement(\"div\");\n",
       "      bk_div.innerHTML = output.data[HTML_MIME_TYPE];\n",
       "      var script_attrs = bk_div.children[0].attributes;\n",
       "      for (var i = 0; i < script_attrs.length; i++) {\n",
       "        toinsert[toinsert.length - 1].firstChild.setAttribute(script_attrs[i].name, script_attrs[i].value);\n",
       "      }\n",
       "      // store reference to server id on output_area\n",
       "      output_area._bokeh_server_id = output.metadata[EXEC_MIME_TYPE][\"server_id\"];\n",
       "    }\n",
       "  }\n",
       "\n",
       "  function register_renderer(events, OutputArea) {\n",
       "\n",
       "    function append_mime(data, metadata, element) {\n",
       "      // create a DOM node to render to\n",
       "      var toinsert = this.create_output_subarea(\n",
       "        metadata,\n",
       "        CLASS_NAME,\n",
       "        EXEC_MIME_TYPE\n",
       "      );\n",
       "      this.keyboard_manager.register_events(toinsert);\n",
       "      // Render to node\n",
       "      var props = {data: data, metadata: metadata[EXEC_MIME_TYPE]};\n",
       "      render(props, toinsert[toinsert.length - 1]);\n",
       "      element.append(toinsert);\n",
       "      return toinsert\n",
       "    }\n",
       "\n",
       "    /* Handle when an output is cleared or removed */\n",
       "    events.on('clear_output.CodeCell', handleClearOutput);\n",
       "    events.on('delete.Cell', handleClearOutput);\n",
       "\n",
       "    /* Handle when a new output is added */\n",
       "    events.on('output_added.OutputArea', handleAddOutput);\n",
       "\n",
       "    /**\n",
       "     * Register the mime type and append_mime function with output_area\n",
       "     */\n",
       "    OutputArea.prototype.register_mime_type(EXEC_MIME_TYPE, append_mime, {\n",
       "      /* Is output safe? */\n",
       "      safe: true,\n",
       "      /* Index of renderer in `output_area.display_order` */\n",
       "      index: 0\n",
       "    });\n",
       "  }\n",
       "\n",
       "  // register the mime type if in Jupyter Notebook environment and previously unregistered\n",
       "  if (root.Jupyter !== undefined) {\n",
       "    var events = require('base/js/events');\n",
       "    var OutputArea = require('notebook/js/outputarea').OutputArea;\n",
       "\n",
       "    if (OutputArea.prototype.mime_types().indexOf(EXEC_MIME_TYPE) == -1) {\n",
       "      register_renderer(events, OutputArea);\n",
       "    }\n",
       "  }\n",
       "\n",
       "  \n",
       "  if (typeof (root._bokeh_timeout) === \"undefined\" || force === true) {\n",
       "    root._bokeh_timeout = Date.now() + 5000;\n",
       "    root._bokeh_failed_load = false;\n",
       "  }\n",
       "\n",
       "  var NB_LOAD_WARNING = {'data': {'text/html':\n",
       "     \"<div style='background-color: #fdd'>\\n\"+\n",
       "     \"<p>\\n\"+\n",
       "     \"BokehJS does not appear to have successfully loaded. If loading BokehJS from CDN, this \\n\"+\n",
       "     \"may be due to a slow or bad network connection. Possible fixes:\\n\"+\n",
       "     \"</p>\\n\"+\n",
       "     \"<ul>\\n\"+\n",
       "     \"<li>re-rerun `output_notebook()` to attempt to load from CDN again, or</li>\\n\"+\n",
       "     \"<li>use INLINE resources instead, as so:</li>\\n\"+\n",
       "     \"</ul>\\n\"+\n",
       "     \"<code>\\n\"+\n",
       "     \"from bokeh.resources import INLINE\\n\"+\n",
       "     \"output_notebook(resources=INLINE)\\n\"+\n",
       "     \"</code>\\n\"+\n",
       "     \"</div>\"}};\n",
       "\n",
       "  function display_loaded() {\n",
       "    var el = document.getElementById(\"7ea252c5-ca0d-4dc4-97f8-553ba3979a35\");\n",
       "    if (el != null) {\n",
       "      el.textContent = \"BokehJS is loading...\";\n",
       "    }\n",
       "    if (root.Bokeh !== undefined) {\n",
       "      if (el != null) {\n",
       "        el.textContent = \"BokehJS \" + root.Bokeh.version + \" successfully loaded.\";\n",
       "      }\n",
       "    } else if (Date.now() < root._bokeh_timeout) {\n",
       "      setTimeout(display_loaded, 100)\n",
       "    }\n",
       "  }\n",
       "\n",
       "\n",
       "  function run_callbacks() {\n",
       "    try {\n",
       "      root._bokeh_onload_callbacks.forEach(function(callback) { callback() });\n",
       "    }\n",
       "    finally {\n",
       "      delete root._bokeh_onload_callbacks\n",
       "    }\n",
       "    console.info(\"Bokeh: all callbacks have finished\");\n",
       "  }\n",
       "\n",
       "  function load_libs(js_urls, callback) {\n",
       "    root._bokeh_onload_callbacks.push(callback);\n",
       "    if (root._bokeh_is_loading > 0) {\n",
       "      console.log(\"Bokeh: BokehJS is being loaded, scheduling callback at\", now());\n",
       "      return null;\n",
       "    }\n",
       "    if (js_urls == null || js_urls.length === 0) {\n",
       "      run_callbacks();\n",
       "      return null;\n",
       "    }\n",
       "    console.log(\"Bokeh: BokehJS not loaded, scheduling load and callback at\", now());\n",
       "    root._bokeh_is_loading = js_urls.length;\n",
       "    for (var i = 0; i < js_urls.length; i++) {\n",
       "      var url = js_urls[i];\n",
       "      var s = document.createElement('script');\n",
       "      s.src = url;\n",
       "      s.async = false;\n",
       "      s.onreadystatechange = s.onload = function() {\n",
       "        root._bokeh_is_loading--;\n",
       "        if (root._bokeh_is_loading === 0) {\n",
       "          console.log(\"Bokeh: all BokehJS libraries loaded\");\n",
       "          run_callbacks()\n",
       "        }\n",
       "      };\n",
       "      s.onerror = function() {\n",
       "        console.warn(\"failed to load library \" + url);\n",
       "      };\n",
       "      console.log(\"Bokeh: injecting script tag for BokehJS library: \", url);\n",
       "      document.getElementsByTagName(\"head\")[0].appendChild(s);\n",
       "    }\n",
       "  };var element = document.getElementById(\"7ea252c5-ca0d-4dc4-97f8-553ba3979a35\");\n",
       "  if (element == null) {\n",
       "    console.log(\"Bokeh: ERROR: autoload.js configured with elementid '7ea252c5-ca0d-4dc4-97f8-553ba3979a35' but no matching script tag was found. \")\n",
       "    return false;\n",
       "  }\n",
       "\n",
       "  var js_urls = [\"https://cdn.pydata.org/bokeh/release/bokeh-0.13.0.min.js\", \"https://cdn.pydata.org/bokeh/release/bokeh-widgets-0.13.0.min.js\", \"https://cdn.pydata.org/bokeh/release/bokeh-tables-0.13.0.min.js\", \"https://cdn.pydata.org/bokeh/release/bokeh-gl-0.13.0.min.js\"];\n",
       "\n",
       "  var inline_js = [\n",
       "    function(Bokeh) {\n",
       "      Bokeh.set_log_level(\"info\");\n",
       "    },\n",
       "    \n",
       "    function(Bokeh) {\n",
       "      \n",
       "    },\n",
       "    function(Bokeh) {\n",
       "      console.log(\"Bokeh: injecting CSS: https://cdn.pydata.org/bokeh/release/bokeh-0.13.0.min.css\");\n",
       "      Bokeh.embed.inject_css(\"https://cdn.pydata.org/bokeh/release/bokeh-0.13.0.min.css\");\n",
       "      console.log(\"Bokeh: injecting CSS: https://cdn.pydata.org/bokeh/release/bokeh-widgets-0.13.0.min.css\");\n",
       "      Bokeh.embed.inject_css(\"https://cdn.pydata.org/bokeh/release/bokeh-widgets-0.13.0.min.css\");\n",
       "      console.log(\"Bokeh: injecting CSS: https://cdn.pydata.org/bokeh/release/bokeh-tables-0.13.0.min.css\");\n",
       "      Bokeh.embed.inject_css(\"https://cdn.pydata.org/bokeh/release/bokeh-tables-0.13.0.min.css\");\n",
       "    }\n",
       "  ];\n",
       "\n",
       "  function run_inline_js() {\n",
       "    \n",
       "    if ((root.Bokeh !== undefined) || (force === true)) {\n",
       "      for (var i = 0; i < inline_js.length; i++) {\n",
       "        inline_js[i].call(root, root.Bokeh);\n",
       "      }if (force === true) {\n",
       "        display_loaded();\n",
       "      }} else if (Date.now() < root._bokeh_timeout) {\n",
       "      setTimeout(run_inline_js, 100);\n",
       "    } else if (!root._bokeh_failed_load) {\n",
       "      console.log(\"Bokeh: BokehJS failed to load within specified timeout.\");\n",
       "      root._bokeh_failed_load = true;\n",
       "    } else if (force !== true) {\n",
       "      var cell = $(document.getElementById(\"7ea252c5-ca0d-4dc4-97f8-553ba3979a35\")).parents('.cell').data().cell;\n",
       "      cell.output_area.append_execute_result(NB_LOAD_WARNING)\n",
       "    }\n",
       "\n",
       "  }\n",
       "\n",
       "  if (root._bokeh_is_loading === 0) {\n",
       "    console.log(\"Bokeh: BokehJS loaded, going straight to plotting\");\n",
       "    run_inline_js();\n",
       "  } else {\n",
       "    load_libs(js_urls, function() {\n",
       "      console.log(\"Bokeh: BokehJS plotting callback run at\", now());\n",
       "      run_inline_js();\n",
       "    });\n",
       "  }\n",
       "}(window));"
      ],
      "application/vnd.bokehjs_load.v0+json": "\n(function(root) {\n  function now() {\n    return new Date();\n  }\n\n  var force = true;\n\n  if (typeof (root._bokeh_onload_callbacks) === \"undefined\" || force === true) {\n    root._bokeh_onload_callbacks = [];\n    root._bokeh_is_loading = undefined;\n  }\n\n  \n\n  \n  if (typeof (root._bokeh_timeout) === \"undefined\" || force === true) {\n    root._bokeh_timeout = Date.now() + 5000;\n    root._bokeh_failed_load = false;\n  }\n\n  var NB_LOAD_WARNING = {'data': {'text/html':\n     \"<div style='background-color: #fdd'>\\n\"+\n     \"<p>\\n\"+\n     \"BokehJS does not appear to have successfully loaded. If loading BokehJS from CDN, this \\n\"+\n     \"may be due to a slow or bad network connection. Possible fixes:\\n\"+\n     \"</p>\\n\"+\n     \"<ul>\\n\"+\n     \"<li>re-rerun `output_notebook()` to attempt to load from CDN again, or</li>\\n\"+\n     \"<li>use INLINE resources instead, as so:</li>\\n\"+\n     \"</ul>\\n\"+\n     \"<code>\\n\"+\n     \"from bokeh.resources import INLINE\\n\"+\n     \"output_notebook(resources=INLINE)\\n\"+\n     \"</code>\\n\"+\n     \"</div>\"}};\n\n  function display_loaded() {\n    var el = document.getElementById(\"7ea252c5-ca0d-4dc4-97f8-553ba3979a35\");\n    if (el != null) {\n      el.textContent = \"BokehJS is loading...\";\n    }\n    if (root.Bokeh !== undefined) {\n      if (el != null) {\n        el.textContent = \"BokehJS \" + root.Bokeh.version + \" successfully loaded.\";\n      }\n    } else if (Date.now() < root._bokeh_timeout) {\n      setTimeout(display_loaded, 100)\n    }\n  }\n\n\n  function run_callbacks() {\n    try {\n      root._bokeh_onload_callbacks.forEach(function(callback) { callback() });\n    }\n    finally {\n      delete root._bokeh_onload_callbacks\n    }\n    console.info(\"Bokeh: all callbacks have finished\");\n  }\n\n  function load_libs(js_urls, callback) {\n    root._bokeh_onload_callbacks.push(callback);\n    if (root._bokeh_is_loading > 0) {\n      console.log(\"Bokeh: BokehJS is being loaded, scheduling callback at\", now());\n      return null;\n    }\n    if (js_urls == null || js_urls.length === 0) {\n      run_callbacks();\n      return null;\n    }\n    console.log(\"Bokeh: BokehJS not loaded, scheduling load and callback at\", now());\n    root._bokeh_is_loading = js_urls.length;\n    for (var i = 0; i < js_urls.length; i++) {\n      var url = js_urls[i];\n      var s = document.createElement('script');\n      s.src = url;\n      s.async = false;\n      s.onreadystatechange = s.onload = function() {\n        root._bokeh_is_loading--;\n        if (root._bokeh_is_loading === 0) {\n          console.log(\"Bokeh: all BokehJS libraries loaded\");\n          run_callbacks()\n        }\n      };\n      s.onerror = function() {\n        console.warn(\"failed to load library \" + url);\n      };\n      console.log(\"Bokeh: injecting script tag for BokehJS library: \", url);\n      document.getElementsByTagName(\"head\")[0].appendChild(s);\n    }\n  };var element = document.getElementById(\"7ea252c5-ca0d-4dc4-97f8-553ba3979a35\");\n  if (element == null) {\n    console.log(\"Bokeh: ERROR: autoload.js configured with elementid '7ea252c5-ca0d-4dc4-97f8-553ba3979a35' but no matching script tag was found. \")\n    return false;\n  }\n\n  var js_urls = [\"https://cdn.pydata.org/bokeh/release/bokeh-0.13.0.min.js\", \"https://cdn.pydata.org/bokeh/release/bokeh-widgets-0.13.0.min.js\", \"https://cdn.pydata.org/bokeh/release/bokeh-tables-0.13.0.min.js\", \"https://cdn.pydata.org/bokeh/release/bokeh-gl-0.13.0.min.js\"];\n\n  var inline_js = [\n    function(Bokeh) {\n      Bokeh.set_log_level(\"info\");\n    },\n    \n    function(Bokeh) {\n      \n    },\n    function(Bokeh) {\n      console.log(\"Bokeh: injecting CSS: https://cdn.pydata.org/bokeh/release/bokeh-0.13.0.min.css\");\n      Bokeh.embed.inject_css(\"https://cdn.pydata.org/bokeh/release/bokeh-0.13.0.min.css\");\n      console.log(\"Bokeh: injecting CSS: https://cdn.pydata.org/bokeh/release/bokeh-widgets-0.13.0.min.css\");\n      Bokeh.embed.inject_css(\"https://cdn.pydata.org/bokeh/release/bokeh-widgets-0.13.0.min.css\");\n      console.log(\"Bokeh: injecting CSS: https://cdn.pydata.org/bokeh/release/bokeh-tables-0.13.0.min.css\");\n      Bokeh.embed.inject_css(\"https://cdn.pydata.org/bokeh/release/bokeh-tables-0.13.0.min.css\");\n    }\n  ];\n\n  function run_inline_js() {\n    \n    if ((root.Bokeh !== undefined) || (force === true)) {\n      for (var i = 0; i < inline_js.length; i++) {\n        inline_js[i].call(root, root.Bokeh);\n      }if (force === true) {\n        display_loaded();\n      }} else if (Date.now() < root._bokeh_timeout) {\n      setTimeout(run_inline_js, 100);\n    } else if (!root._bokeh_failed_load) {\n      console.log(\"Bokeh: BokehJS failed to load within specified timeout.\");\n      root._bokeh_failed_load = true;\n    } else if (force !== true) {\n      var cell = $(document.getElementById(\"7ea252c5-ca0d-4dc4-97f8-553ba3979a35\")).parents('.cell').data().cell;\n      cell.output_area.append_execute_result(NB_LOAD_WARNING)\n    }\n\n  }\n\n  if (root._bokeh_is_loading === 0) {\n    console.log(\"Bokeh: BokehJS loaded, going straight to plotting\");\n    run_inline_js();\n  } else {\n    load_libs(js_urls, function() {\n      console.log(\"Bokeh: BokehJS plotting callback run at\", now());\n      run_inline_js();\n    });\n  }\n}(window));"
     },
     "metadata": {},
     "output_type": "display_data"
    }
   ],
   "source": [
    "# dependent packages\n",
    "import numpy as np\n",
    "import xarray as xr\n",
    "import fmflow as fm\n",
    "from astropy.modeling.models import Linear1D\n",
    "from astropy.modeling.fitting import LinearLSQFitter\n",
    "\n",
    "from bokeh.plotting import figure, show, save, output_notebook\n",
    "output_notebook()"
   ]
  },
  {
   "cell_type": "markdown",
   "metadata": {},
   "source": [
    "## Config"
   ]
  },
  {
   "cell_type": "code",
   "execution_count": 2,
   "metadata": {},
   "outputs": [],
   "source": [
    "path_cal = 'xffts20181005143750.xfftsx.02.nc'\n",
    "path_sci = 'xffts20181005143813.xfftsx.02.nc'\n",
    "\n",
    "Tamb = 273.0 # K\n",
    "freq = 157.2-0.1 + np.linspace(0.0, 2.5, 2**15)"
   ]
  },
  {
   "cell_type": "markdown",
   "metadata": {},
   "source": [
    "## Step 1: Create FM array (ON, OFF, and R)"
   ]
  },
  {
   "cell_type": "code",
   "execution_count": 3,
   "metadata": {},
   "outputs": [],
   "source": [
    "with xr.open_dataset(path_sci) as ds:\n",
    "    array     = ds['array'].copy().values\n",
    "    integtime = ds['integtime'].copy().values\n",
    "    scantype  = ds['bufpos'].copy().values\n",
    "    scanno    = ds['scancount'].copy().values\n",
    "\n",
    "tcoords  = {'scanno': scanno}\n",
    "chcoords = {'fsig': freq}\n",
    "\n",
    "P = fm.array(array/integtime[:,None],\n",
    "             tcoords=tcoords, chcoords=chcoords)\n",
    "\n",
    "Pon  = P[scantype == 'ON']\n",
    "Poff = P[scantype == 'REF']"
   ]
  },
  {
   "cell_type": "code",
   "execution_count": 4,
   "metadata": {},
   "outputs": [],
   "source": [
    "with xr.open_dataset(path_cal) as ds:\n",
    "    array     = ds['array'].copy().values\n",
    "    integtime = ds['integtime'].copy().values\n",
    "\n",
    "Pr = fm.array(array/integtime[:,None]).mean('t')"
   ]
  },
  {
   "cell_type": "markdown",
   "metadata": {},
   "source": [
    "## Step 2: Chopper-wheel calibration"
   ]
  },
  {
   "cell_type": "code",
   "execution_count": 5,
   "metadata": {
    "scrolled": true
   },
   "outputs": [],
   "source": [
    "Tcal = fm.zeros_like(Pon)\n",
    "\n",
    "for no in np.unique(Pon.scanno):\n",
    "    # ON array of single scan\n",
    "    Pon_ = Pon[Pon.scanno==no]\n",
    "\n",
    "    # OFF array for single scan\n",
    "    Poff_l = Poff[Poff.scanno==no-1].mean('t')\n",
    "    Poff_r = Poff[Poff.scanno==no+1].mean('t')\n",
    "    Poff_ = (Poff_l+Poff_r) / 2\n",
    "    \n",
    "    # calibrated array\n",
    "    Tcal_ = Tamb * (Pon_-Poff_) / (Pr-Poff_)\n",
    "    Tcal[Tcal.scanno==no] = Tcal_"
   ]
  },
  {
   "cell_type": "markdown",
   "metadata": {},
   "source": [
    "## Step 3: Baseline subtraction"
   ]
  },
  {
   "cell_type": "code",
   "execution_count": 6,
   "metadata": {},
   "outputs": [],
   "source": [
    "fitter = LinearLSQFitter()\n",
    "linear = Linear1D(0, 0)\n",
    "\n",
    "for spec in Tcal.values:\n",
    "    model = fitter(linear, freq, spec)\n",
    "    spec -= model(freq)"
   ]
  },
  {
   "cell_type": "markdown",
   "metadata": {},
   "source": [
    "## Step 4: Channel binning"
   ]
  },
  {
   "cell_type": "code",
   "execution_count": 7,
   "metadata": {},
   "outputs": [],
   "source": [
    "Tcal_bin = fm.chbinning(Tcal, 32)"
   ]
  },
  {
   "cell_type": "markdown",
   "metadata": {},
   "source": [
    "## Step 5: Plot spectrum"
   ]
  },
  {
   "cell_type": "code",
   "execution_count": 8,
   "metadata": {},
   "outputs": [
    {
     "data": {
      "text/html": [
       "\n",
       "\n",
       "\n",
       "\n",
       "\n",
       "\n",
       "  <div class=\"bk-root\" id=\"a041b9ba-7cd8-4109-9fd3-3e79014fe257\"></div>\n"
      ]
     },
     "metadata": {},
     "output_type": "display_data"
    },
    {
     "data": {
      "application/javascript": [
       "(function(root) {\n",
       "  function embed_document(root) {\n",
       "    \n",
       "  var docs_json = {\"b4c8ad17-194f-46cd-94a9-c8565c63958b\":{\"roots\":{\"references\":[{\"attributes\":{\"callback\":null},\"id\":\"203da508-04de-4771-931c-25d21eebadbf\",\"type\":\"DataRange1d\"},{\"attributes\":{\"plot\":{\"id\":\"3fd263aa-a69d-47f8-9817-7f3278f5b8e4\",\"subtype\":\"Figure\",\"type\":\"Plot\"},\"ticker\":{\"id\":\"45414b94-3b5f-4e7e-841a-d1525994f86b\",\"type\":\"BasicTicker\"}},\"id\":\"5ff3dfbb-17cc-425b-b8fd-9076eba65272\",\"type\":\"Grid\"},{\"attributes\":{\"line_alpha\":0.1,\"line_color\":\"#1f77b4\",\"x\":{\"field\":\"x\"},\"y\":{\"field\":\"y\"}},\"id\":\"08483848-1a48-41e9-9aab-01574587308c\",\"type\":\"Line\"},{\"attributes\":{\"overlay\":{\"id\":\"d2e08c9b-0f5e-4a9a-b528-32062375dc6d\",\"type\":\"BoxAnnotation\"}},\"id\":\"a8816ca6-b756-46d0-bd0a-a286cc240a54\",\"type\":\"BoxZoomTool\"},{\"attributes\":{},\"id\":\"bdd920c6-a309-4466-8490-1a7cd4749bba\",\"type\":\"SaveTool\"},{\"attributes\":{\"data_source\":{\"id\":\"517553b7-e341-4fdd-b3a6-eb5c63f3ecde\",\"type\":\"ColumnDataSource\"},\"glyph\":{\"id\":\"1df1214b-65d7-4ced-9ade-0d88361d8af1\",\"type\":\"Line\"},\"hover_glyph\":null,\"muted_glyph\":null,\"nonselection_glyph\":{\"id\":\"08483848-1a48-41e9-9aab-01574587308c\",\"type\":\"Line\"},\"selection_glyph\":null,\"view\":{\"id\":\"7155e36a-24d2-4487-ba89-30f543007902\",\"type\":\"CDSView\"}},\"id\":\"31930ba0-0482-4f4c-bb83-cc8f8c4db05a\",\"type\":\"GlyphRenderer\"},{\"attributes\":{},\"id\":\"e887ee45-b348-47a8-8ca1-df72f8a5a7b5\",\"type\":\"BasicTicker\"},{\"attributes\":{},\"id\":\"d7e31acd-30b9-4de1-8124-19515ece80d6\",\"type\":\"LinearScale\"},{\"attributes\":{\"line_color\":\"#1f77b4\",\"x\":{\"field\":\"x\"},\"y\":{\"field\":\"y\"}},\"id\":\"1df1214b-65d7-4ced-9ade-0d88361d8af1\",\"type\":\"Line\"},{\"attributes\":{},\"id\":\"2c9c9ab3-b41f-412e-8d20-8d8a46c988df\",\"type\":\"BasicTickFormatter\"},{\"attributes\":{},\"id\":\"d6cbc4a7-1998-462d-a057-7983c8843247\",\"type\":\"WheelZoomTool\"},{\"attributes\":{\"source\":{\"id\":\"517553b7-e341-4fdd-b3a6-eb5c63f3ecde\",\"type\":\"ColumnDataSource\"}},\"id\":\"7155e36a-24d2-4487-ba89-30f543007902\",\"type\":\"CDSView\"},{\"attributes\":{\"callback\":null},\"id\":\"2434d7f7-01e4-4009-8ac5-dbedc981125f\",\"type\":\"DataRange1d\"},{\"attributes\":{\"formatter\":{\"id\":\"ea23b1ec-277a-4595-aabf-dbc026cb20b2\",\"type\":\"BasicTickFormatter\"},\"plot\":{\"id\":\"3fd263aa-a69d-47f8-9817-7f3278f5b8e4\",\"subtype\":\"Figure\",\"type\":\"Plot\"},\"ticker\":{\"id\":\"e887ee45-b348-47a8-8ca1-df72f8a5a7b5\",\"type\":\"BasicTicker\"}},\"id\":\"e2fc9e57-2564-4d0c-8dad-9f094e1ea8c6\",\"type\":\"LinearAxis\"},{\"attributes\":{\"active_drag\":\"auto\",\"active_inspect\":\"auto\",\"active_multi\":null,\"active_scroll\":\"auto\",\"active_tap\":\"auto\",\"tools\":[{\"id\":\"3fea07be-ae30-46f8-9772-30c32e30ad58\",\"type\":\"PanTool\"},{\"id\":\"d6cbc4a7-1998-462d-a057-7983c8843247\",\"type\":\"WheelZoomTool\"},{\"id\":\"a8816ca6-b756-46d0-bd0a-a286cc240a54\",\"type\":\"BoxZoomTool\"},{\"id\":\"bdd920c6-a309-4466-8490-1a7cd4749bba\",\"type\":\"SaveTool\"},{\"id\":\"1c92b6e6-4d24-41e6-b9de-54ba804b87a4\",\"type\":\"ResetTool\"},{\"id\":\"91ff5393-3f39-4e55-9e63-0dccbbe24f6f\",\"type\":\"HelpTool\"}]},\"id\":\"c613de1a-fd11-45d3-b322-54ca85bbd257\",\"type\":\"Toolbar\"},{\"attributes\":{\"dimension\":1,\"plot\":{\"id\":\"3fd263aa-a69d-47f8-9817-7f3278f5b8e4\",\"subtype\":\"Figure\",\"type\":\"Plot\"},\"ticker\":{\"id\":\"e887ee45-b348-47a8-8ca1-df72f8a5a7b5\",\"type\":\"BasicTicker\"}},\"id\":\"f8e326a4-07d1-414b-a876-f940ab109f24\",\"type\":\"Grid\"},{\"attributes\":{},\"id\":\"b8cde4bc-72a5-462b-98e6-9bfe9a277bb8\",\"type\":\"Selection\"},{\"attributes\":{\"formatter\":{\"id\":\"2c9c9ab3-b41f-412e-8d20-8d8a46c988df\",\"type\":\"BasicTickFormatter\"},\"plot\":{\"id\":\"3fd263aa-a69d-47f8-9817-7f3278f5b8e4\",\"subtype\":\"Figure\",\"type\":\"Plot\"},\"ticker\":{\"id\":\"45414b94-3b5f-4e7e-841a-d1525994f86b\",\"type\":\"BasicTicker\"}},\"id\":\"5ce7f828-845a-4df4-95e8-0c5283686649\",\"type\":\"LinearAxis\"},{\"attributes\":{\"callback\":null,\"data\":{\"x\":{\"__ndarray__\":\"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\",\"dtype\":\"float64\",\"shape\":[1004]},\"y\":{\"__ndarray__\":\"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\",\"dtype\":\"float64\",\"shape\":[1004]}},\"selected\":{\"id\":\"b8cde4bc-72a5-462b-98e6-9bfe9a277bb8\",\"type\":\"Selection\"},\"selection_policy\":{\"id\":\"efd2a1c0-1dba-4093-aeca-269a432f8349\",\"type\":\"UnionRenderers\"}},\"id\":\"517553b7-e341-4fdd-b3a6-eb5c63f3ecde\",\"type\":\"ColumnDataSource\"},{\"attributes\":{\"below\":[{\"id\":\"5ce7f828-845a-4df4-95e8-0c5283686649\",\"type\":\"LinearAxis\"}],\"left\":[{\"id\":\"e2fc9e57-2564-4d0c-8dad-9f094e1ea8c6\",\"type\":\"LinearAxis\"}],\"plot_height\":400,\"plot_width\":1200,\"renderers\":[{\"id\":\"5ce7f828-845a-4df4-95e8-0c5283686649\",\"type\":\"LinearAxis\"},{\"id\":\"5ff3dfbb-17cc-425b-b8fd-9076eba65272\",\"type\":\"Grid\"},{\"id\":\"e2fc9e57-2564-4d0c-8dad-9f094e1ea8c6\",\"type\":\"LinearAxis\"},{\"id\":\"f8e326a4-07d1-414b-a876-f940ab109f24\",\"type\":\"Grid\"},{\"id\":\"d2e08c9b-0f5e-4a9a-b528-32062375dc6d\",\"type\":\"BoxAnnotation\"},{\"id\":\"31930ba0-0482-4f4c-bb83-cc8f8c4db05a\",\"type\":\"GlyphRenderer\"}],\"title\":{\"id\":\"f5c54885-b5f2-4001-81d6-f83b80d88505\",\"type\":\"Title\"},\"toolbar\":{\"id\":\"c613de1a-fd11-45d3-b322-54ca85bbd257\",\"type\":\"Toolbar\"},\"x_range\":{\"id\":\"2434d7f7-01e4-4009-8ac5-dbedc981125f\",\"type\":\"DataRange1d\"},\"x_scale\":{\"id\":\"d7e31acd-30b9-4de1-8124-19515ece80d6\",\"type\":\"LinearScale\"},\"y_range\":{\"id\":\"203da508-04de-4771-931c-25d21eebadbf\",\"type\":\"DataRange1d\"},\"y_scale\":{\"id\":\"385a121e-e673-4a09-b008-520b2cc55b3c\",\"type\":\"LinearScale\"}},\"id\":\"3fd263aa-a69d-47f8-9817-7f3278f5b8e4\",\"subtype\":\"Figure\",\"type\":\"Plot\"},{\"attributes\":{},\"id\":\"91ff5393-3f39-4e55-9e63-0dccbbe24f6f\",\"type\":\"HelpTool\"},{\"attributes\":{},\"id\":\"45414b94-3b5f-4e7e-841a-d1525994f86b\",\"type\":\"BasicTicker\"},{\"attributes\":{},\"id\":\"efd2a1c0-1dba-4093-aeca-269a432f8349\",\"type\":\"UnionRenderers\"},{\"attributes\":{\"plot\":null,\"text\":\"\"},\"id\":\"f5c54885-b5f2-4001-81d6-f83b80d88505\",\"type\":\"Title\"},{\"attributes\":{},\"id\":\"3fea07be-ae30-46f8-9772-30c32e30ad58\",\"type\":\"PanTool\"},{\"attributes\":{},\"id\":\"1c92b6e6-4d24-41e6-b9de-54ba804b87a4\",\"type\":\"ResetTool\"},{\"attributes\":{},\"id\":\"ea23b1ec-277a-4595-aabf-dbc026cb20b2\",\"type\":\"BasicTickFormatter\"},{\"attributes\":{},\"id\":\"385a121e-e673-4a09-b008-520b2cc55b3c\",\"type\":\"LinearScale\"},{\"attributes\":{\"bottom_units\":\"screen\",\"fill_alpha\":{\"value\":0.5},\"fill_color\":{\"value\":\"lightgrey\"},\"left_units\":\"screen\",\"level\":\"overlay\",\"line_alpha\":{\"value\":1.0},\"line_color\":{\"value\":\"black\"},\"line_dash\":[4,4],\"line_width\":{\"value\":2},\"plot\":null,\"render_mode\":\"css\",\"right_units\":\"screen\",\"top_units\":\"screen\"},\"id\":\"d2e08c9b-0f5e-4a9a-b528-32062375dc6d\",\"type\":\"BoxAnnotation\"}],\"root_ids\":[\"3fd263aa-a69d-47f8-9817-7f3278f5b8e4\"]},\"title\":\"Bokeh Application\",\"version\":\"0.13.0\"}};\n",
       "  var render_items = [{\"docid\":\"b4c8ad17-194f-46cd-94a9-c8565c63958b\",\"roots\":{\"3fd263aa-a69d-47f8-9817-7f3278f5b8e4\":\"a041b9ba-7cd8-4109-9fd3-3e79014fe257\"}}];\n",
       "  root.Bokeh.embed.embed_items_notebook(docs_json, render_items);\n",
       "\n",
       "  }\n",
       "  if (root.Bokeh !== undefined) {\n",
       "    embed_document(root);\n",
       "  } else {\n",
       "    var attempts = 0;\n",
       "    var timer = setInterval(function(root) {\n",
       "      if (root.Bokeh !== undefined) {\n",
       "        embed_document(root);\n",
       "        clearInterval(timer);\n",
       "      }\n",
       "      attempts++;\n",
       "      if (attempts > 100) {\n",
       "        console.log(\"Bokeh: ERROR: Unable to run BokehJS code because BokehJS library is missing\")\n",
       "        clearInterval(timer);\n",
       "      }\n",
       "    }, 10, root)\n",
       "  }\n",
       "})(window);"
      ],
      "application/vnd.bokehjs_exec.v0+json": ""
     },
     "metadata": {
      "application/vnd.bokehjs_exec.v0+json": {
       "id": "3fd263aa-a69d-47f8-9817-7f3278f5b8e4"
      }
     },
     "output_type": "display_data"
    }
   ],
   "source": [
    "p = figure(plot_width=1200, plot_height=400)\n",
    "p.line(Tcal_bin.fsig.values[10:-10], Tcal_bin.mean('t').values[10:-10])\n",
    "show(p)"
   ]
  },
  {
   "cell_type": "code",
   "execution_count": null,
   "metadata": {},
   "outputs": [],
   "source": []
  }
 ],
 "metadata": {
  "kernelspec": {
   "display_name": "Python 3",
   "language": "python",
   "name": "python3"
  },
  "language_info": {
   "codemirror_mode": {
    "name": "ipython",
    "version": 3
   },
   "file_extension": ".py",
   "mimetype": "text/x-python",
   "name": "python",
   "nbconvert_exporter": "python",
   "pygments_lexer": "ipython3",
   "version": "3.6.5"
  }
 },
 "nbformat": 4,
 "nbformat_minor": 2
}
